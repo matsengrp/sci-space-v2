{
 "cells": [
  {
   "cell_type": "markdown",
   "metadata": {},
   "source": [
    "# 1) Normalize the matrix \n",
    "* Does the matrix need to be symmetric?\n",
    "* Should beads get normalized in some way?\n",
    "* Should we regularize the edges of the graph?"
   ]
  },
  {
   "cell_type": "markdown",
   "metadata": {},
   "source": [
    "# 2) An inital guess\n",
    "* Make an MDS based initial guess of the position of each bead in the array\n",
    "* Could minimize a stress function? <-- look up what this is \n",
    "### Implementation\n",
    "* What's a good MDS package?\n",
    "  1. [Scikit-learn MDS](https://scikit-learn.org/stable/modules/generated/sklearn.manifold.MDS.html)\n",
    "  * Works on sparse Matrices  \n",
    "* How much memory is neede to run on a large matrix?\n",
    "* Are there implementations that work on sparse matrix format?\n"
   ]
  },
  {
   "cell_type": "code",
   "execution_count": 38,
   "metadata": {},
   "outputs": [],
   "source": [
    "# %pip install scikit-learn\n",
    "# %pip install gitpython\n",
    "\n",
    "import git, os, sys\n",
    "import numpy as np\n",
    "import scipy as sp\n",
    "\n",
    "\"\"\"\n",
    "Check if a file is downloaded. If it is not, download it.\n",
    "\"\"\"\n",
    "def download_file(url, filename):\n",
    "    if not os.path.isfile(filename):\n",
    "        print(\"Downloading file from\", url)\n",
    "        urllib.request.urlretrieve(url, filename)\n",
    "\n",
    "def get_git_root(path):\n",
    "\n",
    "        git_repo = git.Repo(path, search_parent_directories=True)\n",
    "        git_root = git_repo.git.rev_parse(\"--show-toplevel\")\n",
    "        return git_root\n"
   ]
  },
  {
   "cell_type": "code",
   "execution_count": 39,
   "metadata": {},
   "outputs": [
    {
     "ename": "AttributeError",
     "evalue": "'numpy.ndarray' object has no attribute 'todense'",
     "output_type": "error",
     "traceback": [
      "\u001b[0;31m---------------------------------------------------------------------------\u001b[0m",
      "\u001b[0;31mAttributeError\u001b[0m                            Traceback (most recent call last)",
      "\u001b[1;32m/Users/sanjay/temp/sci-space-v2/notebooks/score_configurations.ipynb Cell 4\u001b[0m line \u001b[0;36m7\n\u001b[1;32m      <a href='vscode-notebook-cell:/Users/sanjay/temp/sci-space-v2/notebooks/score_configurations.ipynb#X10sZmlsZQ%3D%3D?line=2'>3</a>\u001b[0m download_file(data_url, path_to_data)\n\u001b[1;32m      <a href='vscode-notebook-cell:/Users/sanjay/temp/sci-space-v2/notebooks/score_configurations.ipynb#X10sZmlsZQ%3D%3D?line=4'>5</a>\u001b[0m count_matrix_csr \u001b[39m=\u001b[39m np\u001b[39m.\u001b[39mload(path_to_data, allow_pickle\u001b[39m=\u001b[39m\u001b[39mTrue\u001b[39;00m)[\u001b[39m'\u001b[39m\u001b[39marr_0\u001b[39m\u001b[39m'\u001b[39m]\n\u001b[0;32m----> <a href='vscode-notebook-cell:/Users/sanjay/temp/sci-space-v2/notebooks/score_configurations.ipynb#X10sZmlsZQ%3D%3D?line=6'>7</a>\u001b[0m sys\u001b[39m.\u001b[39mgetsizeof(count_matrix_csr\u001b[39m.\u001b[39;49mtodense())\n",
      "\u001b[0;31mAttributeError\u001b[0m: 'numpy.ndarray' object has no attribute 'todense'"
     ]
    }
   ],
   "source": [
    "data_url = 'https://www.dropbox.com/scl/fi/5f7doq64nt4obc7vzz4vk/count.matrix.filtered.MM.npz?rlkey=k0282gjc3i0gvmrkd5e129lx6&dl=1'\n",
    "path_to_data = get_git_root('.') + '/data/count.matrix.filtered.MM.npz'\n",
    "download_file(data_url, path_to_data)\n",
    "\n",
    "count_matrix_csr = np.load(path_to_data, allow_pickle=True)['arr_0']\n",
    "\n",
    "sys.getsizeof(count_matrix_csr.todense())"
   ]
  },
  {
   "cell_type": "code",
   "execution_count": 41,
   "metadata": {},
   "outputs": [
    {
     "ename": "IndexError",
     "evalue": "too many indices for array: array is 0-dimensional, but 2 were indexed",
     "output_type": "error",
     "traceback": [
      "\u001b[0;31m---------------------------------------------------------------------------\u001b[0m",
      "\u001b[0;31mIndexError\u001b[0m                                Traceback (most recent call last)",
      "\u001b[1;32m/Users/sanjay/temp/sci-space-v2/notebooks/score_configurations.ipynb Cell 5\u001b[0m line \u001b[0;36m1\n\u001b[0;32m----> <a href='vscode-notebook-cell:/Users/sanjay/temp/sci-space-v2/notebooks/score_configurations.ipynb#W6sZmlsZQ%3D%3D?line=0'>1</a>\u001b[0m count_matrix_csr[:\u001b[39m10\u001b[39;49m, :\u001b[39m10\u001b[39;49m]\n",
      "\u001b[0;31mIndexError\u001b[0m: too many indices for array: array is 0-dimensional, but 2 were indexed"
     ]
    }
   ],
   "source": [
    "count_matrix_csr[:10, :10]"
   ]
  },
  {
   "cell_type": "markdown",
   "metadata": {},
   "source": [
    "# 3) Score a configuration\n",
    "* A given model needs to have a certain score so that it can be compared to the data.\n",
    "* One idea is to take a given euclidean configuration and to use some kind of a decay function around it (that we choose). We use this decay function (e.g. a gaussian), center it on a given bead, and multiply that decay times the edge weight as it hits each bead.\n",
    " \n",
    " 1) Propose a solution\n",
    " 2) For each bead, center a 2D gaussian at it's center\n",
    " 3) Multiply the value of this gaussian times the edge weight of every other bead.\n",
    " 4) Sum these values for every bead.\n",
    " 5) Calculate a gradient for each bead\n",
    " 6) Move beads along this gradient by some step size corresponding to the learning rate\n",
    " \n"
   ]
  }
 ],
 "metadata": {
  "kernelspec": {
   "display_name": "Python 3",
   "language": "python",
   "name": "python3"
  },
  "language_info": {
   "codemirror_mode": {
    "name": "ipython",
    "version": 3
   },
   "file_extension": ".py",
   "mimetype": "text/x-python",
   "name": "python",
   "nbconvert_exporter": "python",
   "pygments_lexer": "ipython3",
   "version": "3.11.5"
  }
 },
 "nbformat": 4,
 "nbformat_minor": 2
}
